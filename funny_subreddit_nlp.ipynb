{
 "cells": [
  {
   "cell_type": "code",
   "execution_count": 56,
   "metadata": {
    "collapsed": true
   },
   "outputs": [],
   "source": [
    "import pandas as pd\n",
    "import numpy as np\n",
    "import matplotlib.pyplot as plt\n",
    "import matplotlib.patches as mpatches\n",
    "import nltk\n",
    "from nltk.stem import WordNetLemmatizer\n",
    "from nltk.tokenize import RegexpTokenizer\n",
    "from nltk.corpus import stopwords \n",
    "import re\n",
    "import seaborn as sns\n",
    "from sklearn.feature_extraction.text import CountVectorizer, TfidfTransformer, TfidfVectorizer\n",
    "from sklearn.linear_model import LogisticRegression\n",
    "from sklearn.model_selection import train_test_split\n",
    "from sklearn.neighbors import KNeighborsClassifier\n",
    "from sklearn.svm import SVC\n",
    "from sklearn.metrics import classification_report, accuracy_score\n",
    "from gensim import corpora\n",
    "from gensim.models.ldamodel import LdaModel\n",
    "from gensim.parsing.preprocessing import STOPWORDS\n",
    "from textblob import TextBlob\n",
    "%matplotlib inline"
   ]
  },
  {
   "cell_type": "code",
   "execution_count": 57,
   "metadata": {},
   "outputs": [
    {
     "data": {
      "text/html": [
       "<div>\n",
       "<style scoped>\n",
       "    .dataframe tbody tr th:only-of-type {\n",
       "        vertical-align: middle;\n",
       "    }\n",
       "\n",
       "    .dataframe tbody tr th {\n",
       "        vertical-align: top;\n",
       "    }\n",
       "\n",
       "    .dataframe thead th {\n",
       "        text-align: right;\n",
       "    }\n",
       "</style>\n",
       "<table border=\"1\" class=\"dataframe\">\n",
       "  <thead>\n",
       "    <tr style=\"text-align: right;\">\n",
       "      <th></th>\n",
       "      <th>date_created</th>\n",
       "      <th>is_video</th>\n",
       "      <th>number_of_comments</th>\n",
       "      <th>title</th>\n",
       "      <th>up_votes</th>\n",
       "    </tr>\n",
       "  </thead>\n",
       "  <tbody>\n",
       "    <tr>\n",
       "      <th>0</th>\n",
       "      <td>2018-02-19 19:54:04</td>\n",
       "      <td>False</td>\n",
       "      <td>1</td>\n",
       "      <td>Restaurant be like</td>\n",
       "      <td>4</td>\n",
       "    </tr>\n",
       "    <tr>\n",
       "      <th>1</th>\n",
       "      <td>2018-02-19 19:52:21</td>\n",
       "      <td>True</td>\n",
       "      <td>0</td>\n",
       "      <td>Snacks for kiiiiiid... Ah!</td>\n",
       "      <td>0</td>\n",
       "    </tr>\n",
       "    <tr>\n",
       "      <th>2</th>\n",
       "      <td>2018-02-19 19:52:18</td>\n",
       "      <td>False</td>\n",
       "      <td>0</td>\n",
       "      <td>Checks out</td>\n",
       "      <td>1</td>\n",
       "    </tr>\n",
       "    <tr>\n",
       "      <th>3</th>\n",
       "      <td>2018-02-19 19:50:30</td>\n",
       "      <td>False</td>\n",
       "      <td>0</td>\n",
       "      <td>Don't drive drunk</td>\n",
       "      <td>1</td>\n",
       "    </tr>\n",
       "    <tr>\n",
       "      <th>4</th>\n",
       "      <td>2018-02-19 19:48:37</td>\n",
       "      <td>False</td>\n",
       "      <td>0</td>\n",
       "      <td>Difference between an Indian Cow and Buffalo.....</td>\n",
       "      <td>3</td>\n",
       "    </tr>\n",
       "  </tbody>\n",
       "</table>\n",
       "</div>"
      ],
      "text/plain": [
       "          date_created  is_video  number_of_comments  \\\n",
       "0  2018-02-19 19:54:04     False                   1   \n",
       "1  2018-02-19 19:52:21      True                   0   \n",
       "2  2018-02-19 19:52:18     False                   0   \n",
       "3  2018-02-19 19:50:30     False                   0   \n",
       "4  2018-02-19 19:48:37     False                   0   \n",
       "\n",
       "                                               title  up_votes  \n",
       "0                                 Restaurant be like         4  \n",
       "1                         Snacks for kiiiiiid... Ah!         0  \n",
       "2                                         Checks out         1  \n",
       "3                                  Don't drive drunk         1  \n",
       "4  Difference between an Indian Cow and Buffalo.....         3  "
      ]
     },
     "execution_count": 57,
     "metadata": {},
     "output_type": "execute_result"
    }
   ],
   "source": [
    "df = pd.read_csv('./funny_subreddit.csv', index_col=0)\n",
    "df.head()"
   ]
  },
  {
   "cell_type": "code",
   "execution_count": 58,
   "metadata": {},
   "outputs": [
    {
     "data": {
      "text/plain": [
       "(32789, 5)"
      ]
     },
     "execution_count": 58,
     "metadata": {},
     "output_type": "execute_result"
    }
   ],
   "source": [
    "df.shape"
   ]
  },
  {
   "cell_type": "code",
   "execution_count": 59,
   "metadata": {
    "collapsed": true
   },
   "outputs": [],
   "source": [
    "polarity = []\n",
    "subjectivity = []\n",
    "for val in df['title']:\n",
    "    blob = TextBlob(val)\n",
    "    sentiment = blob.sentiment\n",
    "    polarity.append(sentiment[0])\n",
    "    subjectivity.append(sentiment[1])"
   ]
  },
  {
   "cell_type": "code",
   "execution_count": 60,
   "metadata": {
    "collapsed": true
   },
   "outputs": [],
   "source": [
    "df['polarity'] = polarity\n",
    "df['subjectivity'] = subjectivity"
   ]
  },
  {
   "cell_type": "code",
   "execution_count": 61,
   "metadata": {},
   "outputs": [
    {
     "data": {
      "image/png": "[encoded data removed]",
      "text/plain": [
       "<matplotlib.figure.Figure at 0x1a22c6de48>"
      ]
     },
     "metadata": {},
     "output_type": "display_data"
    }
   ],
   "source": [
    "sns.set_style('darkgrid')\n",
    "plt.style.use('fivethirtyeight')\n",
    "\n",
    "plt.style.use('fivethirtyeight')\n",
    "\n",
    "fig, axes = plt.subplots(1, 2, figsize=(10, 5))\n",
    "sns.distplot(df['up_votes'],ax=axes[0], color='red')\n",
    "sns.distplot(df['number_of_comments'], ax=axes[1], color='green')\n",
    "axes[0].set_xlabel('Up votes', fontdict={'fontsize': 16})\n",
    "axes[1].set_xlabel('Number of comments', fontdict={'fontsize': 16})\n",
    "for ax in axes.flat:\n",
    "    ax.semilogx()\n",
    "    \n",
    "plt.tight_layout()"
   ]
  },
  {
   "cell_type": "code",
   "execution_count": 62,
   "metadata": {},
   "outputs": [
    {
     "data": {
      "text/plain": [
       "array(['I took a few shots at Lake Louise today and Google offered me this panorama:'],\n",
       "      dtype=object)"
      ]
     },
     "execution_count": 62,
     "metadata": {},
     "output_type": "execute_result"
    }
   ],
   "source": [
    "#50th is 6, 80th is 38, 90th percentile is 183 up_votes, 95th 997 up_votes, 99th is 15170, max 192,674\n",
    "df['up_votes'].quantile(q=.50)\n",
    "df.loc[df['up_votes'] == 192674]['title'].values"
   ]
  },
  {
   "cell_type": "code",
   "execution_count": 63,
   "metadata": {},
   "outputs": [
    {
     "data": {
      "text/plain": [
       "array(['Late post but I think we found out who my parents’ favorite child is.'],\n",
       "      dtype=object)"
      ]
     },
     "execution_count": 63,
     "metadata": {},
     "output_type": "execute_result"
    }
   ],
   "source": [
    "df['number_of_comments'].describe()\n",
    "df.loc[df['number_of_comments'] == 11054]['title'].values"
   ]
  },
  {
   "cell_type": "code",
   "execution_count": 64,
   "metadata": {},
   "outputs": [
    {
     "data": {
      "text/plain": [
       "Text(0,0.5,'Total up_votes')"
      ]
     },
     "execution_count": 64,
     "metadata": {},
     "output_type": "execute_result"
    },
    {
     "data": {
      "image/png": "[encoded data removed]",
      "text/plain": [
       "<matplotlib.figure.Figure at 0x1a22d0d780>"
      ]
     },
     "metadata": {},
     "output_type": "display_data"
    }
   ],
   "source": [
    "df['date_created'] = pd.to_datetime(df['date_created'])\n",
    "df.groupby([df['date_created'].dt.hour])['up_votes'].sum().plot()\n",
    "plt.xlabel('Hour of submission')\n",
    "plt.ylabel('Total up_votes')"
   ]
  },
  {
   "cell_type": "code",
   "execution_count": 65,
   "metadata": {},
   "outputs": [
    {
     "data": {
      "text/plain": [
       "(11798, 8)"
      ]
     },
     "execution_count": 65,
     "metadata": {},
     "output_type": "execute_result"
    }
   ],
   "source": [
    "#Starting by looking at up votes, going to set it up by looking at the differences between\n",
    "#top fifteen percent and those that received 0 up votes (4888 vs. 6910 observations). \n",
    "contrast = df[(df['up_votes'] > df['up_votes'].quantile(q=.85)) | (df['up_votes'] == 0)].reset_index(drop=True)\n",
    "\n",
    "#creating 'viral' dummy\n",
    "contrast['viral'] = (contrast['up_votes'] != 0).astype(int)\n",
    "contrast.shape"
   ]
  },
  {
   "cell_type": "code",
   "execution_count": 66,
   "metadata": {},
   "outputs": [
    {
     "data": {
      "text/plain": [
       "Text(0.5,1,'Upvotes by day ')"
      ]
     },
     "execution_count": 66,
     "metadata": {},
     "output_type": "execute_result"
    },
    {
     "data": {
      "image/png": "[encoded data removed]",
      "text/plain": [
       "<matplotlib.figure.Figure at 0x1bc2d1dbe0>"
      ]
     },
     "metadata": {},
     "output_type": "display_data"
    }
   ],
   "source": [
    "#total  up_votes by day\n",
    "contrast.groupby([contrast['date_created'].dt.weekday])['up_votes'].sum().plot()\n",
    "week = ['Sun', 'Mon', 'Tue', 'Wed', 'Thu', 'Fri', 'Sat']\n",
    "plt.xticks(np.arange(0, 6, 1), week)\n",
    "plt.ylabel('Number of upvotes')\n",
    "plt.title('Upvotes by day ')"
   ]
  },
  {
   "cell_type": "code",
   "execution_count": 67,
   "metadata": {},
   "outputs": [
    {
     "data": {
      "text/plain": [
       "array([[1.        , 0.01884265],\n",
       "       [0.01884265, 1.        ]])"
      ]
     },
     "execution_count": 67,
     "metadata": {},
     "output_type": "execute_result"
    },
    {
     "data": {
      "image/png": "[encoded data removed]",
      "text/plain": [
       "<matplotlib.figure.Figure at 0x1bc2bf6da0>"
      ]
     },
     "metadata": {},
     "output_type": "display_data"
    }
   ],
   "source": [
    "#is_video doesn't seem to be too relevant\n",
    "fig, ax = plt.subplots()\n",
    "ax.set_ylim(0, 10000)\n",
    "sns.violinplot(y ='up_votes', x = 'is_video', data=contrast)\n",
    "np.corrcoef(contrast['up_votes'], contrast['is_video'])"
   ]
  },
  {
   "cell_type": "code",
   "execution_count": 68,
   "metadata": {
    "collapsed": true
   },
   "outputs": [],
   "source": [
    "tokenizer = RegexpTokenizer(r'\\w+')\n",
    "lemmatizer = WordNetLemmatizer()\n",
    "stop = set(stopwords.words('english'))\n",
    "stop.add('would')\n",
    "stop.add('like')\n",
    "stop.add('year')\n",
    "stop.add('one')\n",
    "stop.add('day')\n",
    "stop.add('get')\n",
    "stop.add('u')\n",
    "stop.add('v')\n",
    "stop.add('say')\n",
    "stop.add('let')\n",
    "stop.add('made')\n",
    "stop.add('got')\n",
    "\n",
    "\n",
    "\n",
    "#'final' needs to be initialized if you want to run the function below for tfidf or\n",
    "#countvectorizer. But for gensim, keep it deactivated. Also switch returns to finals...\n",
    "\n",
    "def cleaner(title):\n",
    "    \"\"\" This function accepts a string, tokenizes it, removes stopwords,\n",
    "    lemmatizes them, and then return the words as a joined string\"\"\"\n",
    "    tokenizer = RegexpTokenizer(r'\\w+')\n",
    "    no_chars = re.sub(r\"[^a-zA-Z]\", \" \", title)\n",
    "    titles = tokenizer.tokenize(no_chars.lower())\n",
    "    lst = [word for word in titles if word not in stop and len(word) > 2 and word not in STOPWORDS]\n",
    "    lst = [re.sub(r\"[a]+[h]+\", 'ahh', x) for x in lst]\n",
    "    lst = [re.sub(r\"[h]+[a]+\", 'haha', x) for x in lst]\n",
    "    lemons = [lemmatizer.lemmatize(word) for word in lst]\n",
    "    #final = ' '.join(lemons)\n",
    "    return lemons"
   ]
  },
  {
   "cell_type": "code",
   "execution_count": 69,
   "metadata": {
    "collapsed": true
   },
   "outputs": [],
   "source": [
    "#applying cleaner (now without reforming each title into a string)\n",
    "\n",
    "contrast['title'] = contrast['title'].apply(cleaner)"
   ]
  },
  {
   "cell_type": "code",
   "execution_count": 70,
   "metadata": {
    "collapsed": true
   },
   "outputs": [],
   "source": [
    "#Creating gensim dictionary and corpus for topic analysis\n",
    "\n",
    "dictionary = corpora.Dictionary(contrast['title'])\n",
    "\n",
    "corpus = [dictionary.doc2bow(text) for text in contrast['title']]\n",
    "\n",
    "speeches_topics = LdaModel(corpus=corpus,\n",
    "                           id2word=dictionary,\n",
    "                           num_topics=10,\n",
    "                           passes=8)"
   ]
  },
  {
   "cell_type": "code",
   "execution_count": 71,
   "metadata": {},
   "outputs": [
    {
     "name": "stdout",
     "output_type": "stream",
     "text": [
      "0 --- (7, '0.022*\"look\" + 0.015*\"dad\" + 0.014*\"girl\" + 0.014*\"night\" + 0.012*\"lol\" + 0.012*\"paul\" + 0.012*\"logan\" + 0.012*\"thing\" + 0.011*\"need\" + 0.010*\"post\"') \n",
      "\n",
      "1 --- (9, '0.025*\"life\" + 0.013*\"car\" + 0.010*\"trying\" + 0.010*\"review\" + 0.009*\"thahanks\" + 0.009*\"amazon\" + 0.008*\"sent\" + 0.008*\"news\" + 0.008*\"prank\" + 0.007*\"phone\"') \n",
      "\n"
     ]
    }
   ],
   "source": [
    "for i, topic in enumerate(speeches_topics.print_topics(2)):\n",
    "    print('{} --- {}'.format(i, topic), '\\n')"
   ]
  },
  {
   "cell_type": "code",
   "execution_count": 72,
   "metadata": {
    "collapsed": true
   },
   "outputs": [],
   "source": [
    "contrast['title'] = contrast['title'].apply(lambda x: ' '.join(x))"
   ]
  },
  {
   "cell_type": "code",
   "execution_count": 73,
   "metadata": {
    "collapsed": true
   },
   "outputs": [],
   "source": [
    "#switch this to after test/train split\n",
    "cv  = CountVectorizer(ngram_range=(1, 2))\n",
    "X = contrast['title']\n",
    "X = cv.fit_transform(X).toarray()\n",
    "columns = cv.get_feature_names()"
   ]
  },
  {
   "cell_type": "code",
   "execution_count": 74,
   "metadata": {
    "collapsed": true
   },
   "outputs": [],
   "source": [
    "name_df = pd.DataFrame(X)\n",
    "name_df.columns = columns"
   ]
  },
  {
   "cell_type": "code",
   "execution_count": 75,
   "metadata": {},
   "outputs": [
    {
     "data": {
      "text/plain": [
       "new       285\n",
       "look      254\n",
       "know      226\n",
       "friend    219\n",
       "time      215\n",
       "guy       193\n",
       "funny     172\n",
       "tide      160\n",
       "think     158\n",
       "pod       155\n",
       "dog       154\n",
       "today     154\n",
       "kid       154\n",
       "cat       153\n",
       "man       140\n",
       "way       135\n",
       "video     133\n",
       "best      133\n",
       "good      133\n",
       "work      132\n",
       "dtype: int64"
      ]
     },
     "execution_count": 75,
     "metadata": {},
     "output_type": "execute_result"
    }
   ],
   "source": [
    "#Most common title words \n",
    "name_df.sum(axis=0).sort_values(ascending=False).head(20)"
   ]
  },
  {
   "cell_type": "code",
   "execution_count": 76,
   "metadata": {
    "collapsed": true
   },
   "outputs": [],
   "source": [
    "X = pd.concat([pd.DataFrame(X), contrast['viral']], axis=1)\n",
    "y = X['viral']\n",
    "X = X.drop('viral', axis=1)"
   ]
  },
  {
   "cell_type": "code",
   "execution_count": 77,
   "metadata": {
    "collapsed": true
   },
   "outputs": [],
   "source": [
    "X_test, X_train, y_test, y_train = train_test_split(X, y, test_size=0.3)"
   ]
  },
  {
   "cell_type": "code",
   "execution_count": 78,
   "metadata": {},
   "outputs": [],
   "source": [
    "transformer = TfidfTransformer()\n",
    "X_train = transformer.fit_transform(X_train)\n",
    "X_test = transformer.transform(X_test)"
   ]
  },
  {
   "cell_type": "code",
   "execution_count": 79,
   "metadata": {},
   "outputs": [
    {
     "data": {
      "text/plain": [
       "LogisticRegression(C=1.0, class_weight=None, dual=False, fit_intercept=True,\n",
       "          intercept_scaling=1, max_iter=100, multi_class='ovr', n_jobs=1,\n",
       "          penalty='l2', random_state=None, solver='liblinear', tol=0.0001,\n",
       "          verbose=0, warm_start=False)"
      ]
     },
     "execution_count": 79,
     "metadata": {},
     "output_type": "execute_result"
    }
   ],
   "source": [
    "lr = LogisticRegression()\n",
    "lr.fit(X_train, y_train)"
   ]
  },
  {
   "cell_type": "code",
   "execution_count": 80,
   "metadata": {},
   "outputs": [
    {
     "name": "stdout",
     "output_type": "stream",
     "text": [
      "accuracy:  0.5888835069023977\n",
      "             precision    recall  f1-score   support\n",
      "\n",
      "          0       0.59      0.95      0.73      4810\n",
      "          1       0.55      0.09      0.15      3448\n",
      "\n",
      "avg / total       0.57      0.59      0.49      8258\n",
      "\n",
      "baseline:  0.587067086461613\n"
     ]
    }
   ],
   "source": [
    "preds = lr.predict(X_test)\n",
    "print('accuracy: ', accuracy_score(y_test, preds))\n",
    "print(classification_report(y_test, preds))\n",
    "print('baseline: ', 4848/(4848+3410))"
   ]
  },
  {
   "cell_type": "code",
   "execution_count": 81,
   "metadata": {
    "collapsed": true
   },
   "outputs": [],
   "source": [
    "#now with TFIDF_vectorizer "
   ]
  },
  {
   "cell_type": "code",
   "execution_count": 82,
   "metadata": {
    "collapsed": true
   },
   "outputs": [],
   "source": [
    "X_test, X_train, y_test, y_train = train_test_split(contrast['title'], contrast['viral'], test_size=0.3)\n",
    "\n",
    "vectorizer = TfidfVectorizer(min_df=10, max_df=50, max_features=900)\n",
    "X_train = vectorizer.fit_transform(X_train)\n",
    "X_test = vectorizer.transform(X_test)"
   ]
  },
  {
   "cell_type": "code",
   "execution_count": 83,
   "metadata": {},
   "outputs": [
    {
     "name": "stdout",
     "output_type": "stream",
     "text": [
      "0.5862194235892468\n",
      "             precision    recall  f1-score   support\n",
      "\n",
      "          0       0.60      0.88      0.71      4804\n",
      "          1       0.52      0.17      0.26      3454\n",
      "\n",
      "avg / total       0.56      0.59      0.52      8258\n",
      "\n"
     ]
    }
   ],
   "source": [
    "lr = LogisticRegression()\n",
    "lr.fit(X_train, y_train)\n",
    "preds = lr.predict(X_test)\n",
    "print(accuracy_score(y_test, preds))\n",
    "print(classification_report(y_test, preds))"
   ]
  },
  {
   "cell_type": "code",
   "execution_count": 88,
   "metadata": {},
   "outputs": [
    {
     "data": {
      "text/html": [
       "<div>\n",
       "<style scoped>\n",
       "    .dataframe tbody tr th:only-of-type {\n",
       "        vertical-align: middle;\n",
       "    }\n",
       "\n",
       "    .dataframe tbody tr th {\n",
       "        vertical-align: top;\n",
       "    }\n",
       "\n",
       "    .dataframe thead th {\n",
       "        text-align: right;\n",
       "    }\n",
       "</style>\n",
       "<table border=\"1\" class=\"dataframe\">\n",
       "  <thead>\n",
       "    <tr style=\"text-align: right;\">\n",
       "      <th></th>\n",
       "      <th>is_video</th>\n",
       "      <th>number_of_comments</th>\n",
       "      <th>up_votes</th>\n",
       "      <th>polarity</th>\n",
       "      <th>subjectivity</th>\n",
       "      <th>viral</th>\n",
       "    </tr>\n",
       "  </thead>\n",
       "  <tbody>\n",
       "    <tr>\n",
       "      <th>is_video</th>\n",
       "      <td>1.000000</td>\n",
       "      <td>0.033321</td>\n",
       "      <td>0.018843</td>\n",
       "      <td>-0.002284</td>\n",
       "      <td>-0.011338</td>\n",
       "      <td>0.054599</td>\n",
       "    </tr>\n",
       "    <tr>\n",
       "      <th>number_of_comments</th>\n",
       "      <td>0.033321</td>\n",
       "      <td>1.000000</td>\n",
       "      <td>0.831725</td>\n",
       "      <td>-0.003100</td>\n",
       "      <td>-0.000828</td>\n",
       "      <td>0.223857</td>\n",
       "    </tr>\n",
       "    <tr>\n",
       "      <th>up_votes</th>\n",
       "      <td>0.018843</td>\n",
       "      <td>0.831725</td>\n",
       "      <td>1.000000</td>\n",
       "      <td>-0.014103</td>\n",
       "      <td>-0.003804</td>\n",
       "      <td>0.232129</td>\n",
       "    </tr>\n",
       "    <tr>\n",
       "      <th>polarity</th>\n",
       "      <td>-0.002284</td>\n",
       "      <td>-0.003100</td>\n",
       "      <td>-0.014103</td>\n",
       "      <td>1.000000</td>\n",
       "      <td>0.189475</td>\n",
       "      <td>0.002375</td>\n",
       "    </tr>\n",
       "    <tr>\n",
       "      <th>subjectivity</th>\n",
       "      <td>-0.011338</td>\n",
       "      <td>-0.000828</td>\n",
       "      <td>-0.003804</td>\n",
       "      <td>0.189475</td>\n",
       "      <td>1.000000</td>\n",
       "      <td>-0.021590</td>\n",
       "    </tr>\n",
       "    <tr>\n",
       "      <th>viral</th>\n",
       "      <td>0.054599</td>\n",
       "      <td>0.223857</td>\n",
       "      <td>0.232129</td>\n",
       "      <td>0.002375</td>\n",
       "      <td>-0.021590</td>\n",
       "      <td>1.000000</td>\n",
       "    </tr>\n",
       "  </tbody>\n",
       "</table>\n",
       "</div>"
      ],
      "text/plain": [
       "                    is_video  number_of_comments  up_votes  polarity  \\\n",
       "is_video            1.000000            0.033321  0.018843 -0.002284   \n",
       "number_of_comments  0.033321            1.000000  0.831725 -0.003100   \n",
       "up_votes            0.018843            0.831725  1.000000 -0.014103   \n",
       "polarity           -0.002284           -0.003100 -0.014103  1.000000   \n",
       "subjectivity       -0.011338           -0.000828 -0.003804  0.189475   \n",
       "viral               0.054599            0.223857  0.232129  0.002375   \n",
       "\n",
       "                    subjectivity     viral  \n",
       "is_video               -0.011338  0.054599  \n",
       "number_of_comments     -0.000828  0.223857  \n",
       "up_votes               -0.003804  0.232129  \n",
       "polarity                0.189475  0.002375  \n",
       "subjectivity            1.000000 -0.021590  \n",
       "viral                  -0.021590  1.000000  "
      ]
     },
     "execution_count": 88,
     "metadata": {},
     "output_type": "execute_result"
    }
   ],
   "source": [
    "contrast.corr()"
   ]
  }
 ],
 "metadata": {
  "kernelspec": {
   "display_name": "Python 3",
   "language": "python",
   "name": "python3"
  },
  "language_info": {
   "codemirror_mode": {
    "name": "ipython",
    "version": 3
   },
   "file_extension": ".py",
   "mimetype": "text/x-python",
   "name": "python",
   "nbconvert_exporter": "python",
   "pygments_lexer": "ipython3",
   "version": "3.6.4"
  }
 },
 "nbformat": 4,
 "nbformat_minor": 2
}
